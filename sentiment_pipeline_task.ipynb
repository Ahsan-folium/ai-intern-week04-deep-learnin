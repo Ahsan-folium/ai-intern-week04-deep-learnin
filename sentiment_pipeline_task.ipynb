{
  "nbformat": 4,
  "nbformat_minor": 0,
  "metadata": {
    "colab": {
      "provenance": [],
      "authorship_tag": "ABX9TyPHtPoV5qVJ8LakAIqK4+Ig",
      "include_colab_link": true
    },
    "kernelspec": {
      "name": "python3",
      "display_name": "Python 3"
    },
    "language_info": {
      "name": "python"
    }
  },
  "cells": [
    {
      "cell_type": "markdown",
      "metadata": {
        "id": "view-in-github",
        "colab_type": "text"
      },
      "source": [
        "<a href=\"https://colab.research.google.com/github/Ahsan-folium/ai-intern-week04-deep-learnin/blob/main/sentiment_pipeline_task.ipynb\" target=\"_parent\"><img src=\"https://colab.research.google.com/assets/colab-badge.svg\" alt=\"Open In Colab\"/></a>"
      ]
    },
    {
      "cell_type": "code",
      "execution_count": null,
      "metadata": {
        "id": "-3mJGe7gZnWy"
      },
      "outputs": [],
      "source": [
        "!pip install transformers"
      ]
    },
    {
      "cell_type": "code",
      "source": [
        "from transformers import pipeline\n"
      ],
      "metadata": {
        "id": "GMipccYZaJsc"
      },
      "execution_count": null,
      "outputs": []
    },
    {
      "cell_type": "code",
      "source": [
        "sentiment_analyzer = pipeline(\"sentiment-analysis\")\n"
      ],
      "metadata": {
        "id": "ZkI0Mr-2bLAE"
      },
      "execution_count": null,
      "outputs": []
    },
    {
      "cell_type": "code",
      "source": [
        "sentences = [\n",
        "    \"I hate my university but i like the people i met there\",\n",
        "    \"I get tired at my job.\",\n",
        "    \"The movie was okaish , not great not bad either i guess.\" ,\n",
        "    \"i love travelling to northern pakistan , but i donot like the jeep travel\"\n",
        "]\n",
        "\n",
        "results = sentiment_analyzer(sentences)\n",
        "\n"
      ],
      "metadata": {
        "id": "t4wo2XahbLjG"
      },
      "execution_count": null,
      "outputs": []
    },
    {
      "cell_type": "code",
      "source": [
        "results"
      ],
      "metadata": {
        "id": "PfHqmapdbaOK"
      },
      "execution_count": null,
      "outputs": []
    },
    {
      "cell_type": "code",
      "source": [
        "for sentence, result in zip(sentences, results):\n",
        "    print(f\"Sentence: {sentence}\")\n",
        "    print(f\"Label: {result['label']}, Score: {result['score']:.2f}\")"
      ],
      "metadata": {
        "id": "H647mTKpbasA"
      },
      "execution_count": null,
      "outputs": []
    },
    {
      "cell_type": "code",
      "source": [],
      "metadata": {
        "id": "oHEvYHsiba16"
      },
      "execution_count": null,
      "outputs": []
    },
    {
      "cell_type": "code",
      "source": [],
      "metadata": {
        "id": "_oeLY-AcbbTS"
      },
      "execution_count": null,
      "outputs": []
    },
    {
      "cell_type": "markdown",
      "source": [
        "##notes :\n",
        "\n",
        "**pipeline** is a high-level API that wraps all the complicated stuff (tokenization, model loading, attention) into one simple interface.\n",
        "\n",
        "For beginners, this lets you run NLP tasks in 2–3 lines without worrying about model internals yet.\n",
        "\n",
        "\n",
        "**\"sentiment-analysis\"** tells Hugging Face: “I want to classify text as positive or negative.”\n",
        "\n",
        "Under the hood, it loads a pre-trained model (by default distilbert-base-uncased-finetuned-sst-2-english) which is already trained on movie reviews for positive/negative sentiment.\n",
        "\n",
        "\n",
        "using the **pipeline api** , we dont have to care about importing the model as it imports the default model and tokenizing"
      ],
      "metadata": {
        "id": "h3QwxnWvaRq7"
      }
    },
    {
      "cell_type": "code",
      "source": [],
      "metadata": {
        "id": "WvsqqSlnbFMa"
      },
      "execution_count": null,
      "outputs": []
    }
  ]
}