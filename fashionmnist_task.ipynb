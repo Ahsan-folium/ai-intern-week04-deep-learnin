{
  "cells": [
    {
      "cell_type": "code",
      "execution_count": null,
      "id": "dad3c48d-7825-4cd4-bb9e-b57968e17c7f",
      "metadata": {
        "id": "dad3c48d-7825-4cd4-bb9e-b57968e17c7f",
        "outputId": "3891bdff-dbe9-491b-908e-b71f9a754d5d"
      },
      "outputs": [
        {
          "data": {
            "text/plain": [
              "2"
            ]
          },
          "execution_count": 1,
          "metadata": {},
          "output_type": "execute_result"
        }
      ],
      "source": [
        "1+1"
      ]
    },
    {
      "cell_type": "code",
      "execution_count": null,
      "id": "cab023bd-4d81-4d14-8ead-6ed374734fee",
      "metadata": {
        "id": "cab023bd-4d81-4d14-8ead-6ed374734fee",
        "outputId": "9500443e-6fe1-41af-9a38-85542d9c9965"
      },
      "outputs": [
        {
          "data": {
            "text/plain": [
              "4"
            ]
          },
          "execution_count": 2,
          "metadata": {},
          "output_type": "execute_result"
        }
      ],
      "source": [
        "2+2"
      ]
    },
    {
      "cell_type": "code",
      "execution_count": 6,
      "id": "ef6d9b3b-795a-4b1f-9298-fc87df9bae5e",
      "metadata": {
        "colab": {
          "base_uri": "https://localhost:8080/"
        },
        "id": "ef6d9b3b-795a-4b1f-9298-fc87df9bae5e",
        "outputId": "69e4b276-ee65-4ffc-d3f0-c2f1f557ed34"
      },
      "outputs": [
        {
          "output_type": "execute_result",
          "data": {
            "text/plain": [
              "60"
            ]
          },
          "metadata": {},
          "execution_count": 6
        }
      ],
      "source": [
        "4+56"
      ]
    },
    {
      "cell_type": "code",
      "source": [
        "9999*23"
      ],
      "metadata": {
        "colab": {
          "base_uri": "https://localhost:8080/"
        },
        "id": "RnLHkjFlP5ZO",
        "outputId": "0a3846be-e2d1-443a-d15b-75e4a10dbe68"
      },
      "id": "RnLHkjFlP5ZO",
      "execution_count": 7,
      "outputs": [
        {
          "output_type": "execute_result",
          "data": {
            "text/plain": [
              "229977"
            ]
          },
          "metadata": {},
          "execution_count": 7
        }
      ]
    },
    {
      "cell_type": "code",
      "source": [
        "45443"
      ],
      "metadata": {
        "id": "mkAhZ6_wQo7R",
        "outputId": "23480e3b-9ce5-466e-d1ea-742d76e9c652",
        "colab": {
          "base_uri": "https://localhost:8080/"
        }
      },
      "id": "mkAhZ6_wQo7R",
      "execution_count": 8,
      "outputs": [
        {
          "output_type": "execute_result",
          "data": {
            "text/plain": [
              "45443"
            ]
          },
          "metadata": {},
          "execution_count": 8
        }
      ]
    },
    {
      "cell_type": "code",
      "source": [],
      "metadata": {
        "id": "jhutSbzjQpgW"
      },
      "id": "jhutSbzjQpgW",
      "execution_count": null,
      "outputs": []
    }
  ],
  "metadata": {
    "kernelspec": {
      "display_name": "Python [conda env:base] *",
      "language": "python",
      "name": "conda-base-py"
    },
    "language_info": {
      "codemirror_mode": {
        "name": "ipython",
        "version": 3
      },
      "file_extension": ".py",
      "mimetype": "text/x-python",
      "name": "python",
      "nbconvert_exporter": "python",
      "pygments_lexer": "ipython3",
      "version": "3.13.5"
    },
    "colab": {
      "provenance": []
    }
  },
  "nbformat": 4,
  "nbformat_minor": 5
}