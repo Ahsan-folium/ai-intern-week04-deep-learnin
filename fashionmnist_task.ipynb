{
  "cells": [
    {
      "cell_type": "code",
      "execution_count": 4,
      "id": "dad3c48d-7825-4cd4-bb9e-b57968e17c7f",
      "metadata": {
        "colab": {
          "base_uri": "https://localhost:8080/"
        },
        "id": "dad3c48d-7825-4cd4-bb9e-b57968e17c7f",
        "outputId": "1360e0ce-548c-43d5-accc-073aa2c87665"
      },
      "outputs": [
        {
          "output_type": "execute_result",
          "data": {
            "text/plain": [
              "2"
            ]
          },
          "metadata": {},
          "execution_count": 4
        }
      ],
      "source": [
        "1+1"
      ]
    },
    {
      "cell_type": "code",
      "source": [
        "2+4"
      ],
      "metadata": {
        "id": "-1gkY_C8Pvg5",
        "outputId": "2c44c79f-10d3-4f70-fdfe-2778a731eab9",
        "colab": {
          "base_uri": "https://localhost:8080/"
        }
      },
      "id": "-1gkY_C8Pvg5",
      "execution_count": 5,
      "outputs": [
        {
          "output_type": "execute_result",
          "data": {
            "text/plain": [
              "6"
            ]
          },
          "metadata": {},
          "execution_count": 5
        }
      ]
    },
    {
      "cell_type": "code",
      "source": [],
      "metadata": {
        "id": "RRXZiOZfPwXO"
      },
      "id": "RRXZiOZfPwXO",
      "execution_count": null,
      "outputs": []
    }
  ],
  "metadata": {
    "kernelspec": {
      "display_name": "Python [conda env:base] *",
      "language": "python",
      "name": "conda-base-py"
    },
    "language_info": {
      "codemirror_mode": {
        "name": "ipython",
        "version": 3
      },
      "file_extension": ".py",
      "mimetype": "text/x-python",
      "name": "python",
      "nbconvert_exporter": "python",
      "pygments_lexer": "ipython3",
      "version": "3.13.5"
    },
    "colab": {
      "provenance": []
    }
  },
  "nbformat": 4,
  "nbformat_minor": 5
}