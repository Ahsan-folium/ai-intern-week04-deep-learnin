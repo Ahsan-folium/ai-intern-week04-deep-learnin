{
  "nbformat": 4,
  "nbformat_minor": 0,
  "metadata": {
    "colab": {
      "provenance": [],
      "gpuType": "T4",
      "authorship_tag": "ABX9TyM+Ab6euYhTOys8swWVHEku",
      "include_colab_link": true
    },
    "kernelspec": {
      "name": "python3",
      "display_name": "Python 3"
    },
    "language_info": {
      "name": "python"
    },
    "accelerator": "GPU"
  },
  "cells": [
    {
      "cell_type": "markdown",
      "metadata": {
        "id": "view-in-github",
        "colab_type": "text"
      },
      "source": [
        "<a href=\"https://colab.research.google.com/github/Ahsan-folium/ai-intern-week04-deep-learnin/blob/main/deepLearning_miniProject.ipynb\" target=\"_parent\"><img src=\"https://colab.research.google.com/assets/colab-badge.svg\" alt=\"Open In Colab\"/></a>"
      ]
    },
    {
      "cell_type": "code",
      "source": [
        "# !pip install transformers datasets\n",
        "!pip install evaluate"
      ],
      "metadata": {
        "id": "ZAKn7wbMj8Xx"
      },
      "execution_count": null,
      "outputs": []
    },
    {
      "cell_type": "code",
      "execution_count": null,
      "metadata": {
        "id": "fPLRgfKr0ZGU"
      },
      "outputs": [],
      "source": [
        "from datasets import load_dataset\n",
        "from transformers import (\n",
        "AutoTokenizer,\n",
        "AutoModelForSequenceClassification, TrainingArguments, Trainer\n",
        ")\n",
        "\n",
        "import numpy as np\n",
        "import evaluate"
      ]
    },
    {
      "cell_type": "code",
      "source": [
        "# loading the imdb dataset\n",
        "dataset = load_dataset(\"imdb\")\n",
        "print(dataset)"
      ],
      "metadata": {
        "id": "airwIy-VjuAU"
      },
      "execution_count": null,
      "outputs": []
    },
    {
      "cell_type": "code",
      "source": [
        "# loading the tokenizer\n",
        "tokenizer = AutoTokenizer.from_pretrained(\"bert-base-uncased\")"
      ],
      "metadata": {
        "id": "KtLBp9GmlpDr"
      },
      "execution_count": null,
      "outputs": []
    },
    {
      "cell_type": "code",
      "source": [
        "# now we need to tokenize so each review text converts into tokens with ids\n",
        "def tokenizer_function(dataset):\n",
        "  return tokenizer(dataset[\"text\"], padding=True, truncation=True)\n",
        "\n",
        "\n",
        "tokenized_datasets = dataset.map(tokenizer_function, batched=True)"
      ],
      "metadata": {
        "id": "7fDyMxQel0SG"
      },
      "execution_count": null,
      "outputs": []
    },
    {
      "cell_type": "code",
      "source": [
        "# now we load the model\n",
        "model = AutoModelForSequenceClassification.from_pretrained(\"bert-base-uncased\", num_labels=2)\n",
        "\n"
      ],
      "metadata": {
        "id": "uJEHV4ENosOY"
      },
      "execution_count": null,
      "outputs": []
    },
    {
      "cell_type": "code",
      "source": [
        "# evaluation metrics\n",
        "accuracy = evaluate.load(\"accuracy\")\n",
        "\n",
        "def compute_metrics(eval_pred):\n",
        "    logits, labels = eval_pred\n",
        "    predictions = np.argmax(logits, axis=-1)\n",
        "    return accuracy.compute(predictions=predictions, references=labels)"
      ],
      "metadata": {
        "id": "u3ba1vEyxQ5N"
      },
      "execution_count": null,
      "outputs": []
    },
    {
      "cell_type": "code",
      "source": [
        "training_args = TrainingArguments(\n",
        "    output_dir=\"./results\",\n",
        "    eval_strategy=\"epoch\",\n",
        "    learning_rate=2e-5,\n",
        "    per_device_train_batch_size=8,\n",
        "    per_device_eval_batch_size=8,\n",
        "    num_train_epochs=2,\n",
        "    weight_decay=0.01,\n",
        ")"
      ],
      "metadata": {
        "id": "oK8_AMJ_xgD9"
      },
      "execution_count": null,
      "outputs": []
    },
    {
      "cell_type": "code",
      "source": [
        "trainer = Trainer(\n",
        "    model=model,\n",
        "    args=training_args,\n",
        "    train_dataset=tokenized_datasets[\"train\"].shuffle(seed=42).select(range(2000)),\n",
        "    eval_dataset=tokenized_datasets[\"test\"].shuffle(seed=42).select(range(1000)),\n",
        "    tokenizer=tokenizer ,\n",
        "    compute_metrics=compute_metrics,\n",
        ")\n",
        "\n",
        "display(trainer)\n",
        "\n",
        "# we are choosing a small subset of 2000 samples because the enitre set will take much longer"
      ],
      "metadata": {
        "id": "B_X3laU2x0Qk"
      },
      "execution_count": null,
      "outputs": []
    },
    {
      "cell_type": "code",
      "source": [
        "trainer.train()"
      ],
      "metadata": {
        "id": "rZ4P6EpDyoXT"
      },
      "execution_count": null,
      "outputs": []
    },
    {
      "cell_type": "code",
      "source": [
        "trainer.evaluate()\n"
      ],
      "metadata": {
        "id": "80own4Glyule"
      },
      "execution_count": null,
      "outputs": []
    },
    {
      "cell_type": "code",
      "source": [],
      "metadata": {
        "id": "SHZeO-w16QHi"
      },
      "execution_count": null,
      "outputs": []
    },
    {
      "cell_type": "code",
      "source": [
        "import torch\n",
        "\n",
        "\n",
        "# Put model on GPU\n",
        "device = torch.device(\"cuda\" if torch.cuda.is_available() else \"cpu\")\n",
        "model.to(device)\n"
      ],
      "metadata": {
        "id": "B8ikslE56uXw"
      },
      "execution_count": null,
      "outputs": []
    },
    {
      "cell_type": "code",
      "source": [
        "\n",
        "\n",
        "def predict_sentiment(test_text):\n",
        "\n",
        "  # Tokenize and move inputs to GPU\n",
        "  inputs = tokenizer(test_text, return_tensors=\"pt\", truncation=True, padding=True).to(device)\n",
        "\n",
        "  # Run model\n",
        "  outputs = model(**inputs)\n",
        "  pred = outputs.logits.argmax(-1).item()\n",
        "\n",
        "  print(\"Sentiment:\", \"positive\" if pred == 1 else \"negative\")\n"
      ],
      "metadata": {
        "id": "DJdZuATG6vLL"
      },
      "execution_count": null,
      "outputs": []
    },
    {
      "cell_type": "code",
      "source": [
        "text = \"I absolutely loved this movie! The acting was fantastic.\"\n",
        "predict_sentiment(text)\n",
        "\n",
        "text2 = \"this movie is a waste of time\"\n",
        "\n",
        "predict_sentiment(text2)"
      ],
      "metadata": {
        "id": "r0nE1f7S8ZQS"
      },
      "execution_count": null,
      "outputs": []
    },
    {
      "cell_type": "code",
      "source": [],
      "metadata": {
        "id": "yeTlTGe-8jXi"
      },
      "execution_count": null,
      "outputs": []
    }
  ]
}