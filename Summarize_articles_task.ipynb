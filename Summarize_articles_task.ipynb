{
  "nbformat": 4,
  "nbformat_minor": 0,
  "metadata": {
    "colab": {
      "provenance": [],
      "authorship_tag": "ABX9TyMjiEWki7UYb//rBC4lcGKe",
      "include_colab_link": true
    },
    "kernelspec": {
      "name": "python3",
      "display_name": "Python 3"
    },
    "language_info": {
      "name": "python"
    }
  },
  "cells": [
    {
      "cell_type": "markdown",
      "metadata": {
        "id": "view-in-github",
        "colab_type": "text"
      },
      "source": [
        "<a href=\"https://colab.research.google.com/github/Ahsan-folium/ai-intern-week04-deep-learnin/blob/main/Summarize_articles_task.ipynb\" target=\"_parent\"><img src=\"https://colab.research.google.com/assets/colab-badge.svg\" alt=\"Open In Colab\"/></a>"
      ]
    },
    {
      "cell_type": "code",
      "execution_count": null,
      "metadata": {
        "id": "92I0Rp1CijO5"
      },
      "outputs": [],
      "source": [
        "from transformers import pipeline\n"
      ]
    },
    {
      "cell_type": "code",
      "source": [
        "summarizer = pipeline(\"summarization\", model= \"facebook/bart-large-cnn\")\n"
      ],
      "metadata": {
        "id": "d2ZFtNExnVyo"
      },
      "execution_count": null,
      "outputs": []
    },
    {
      "cell_type": "markdown",
      "source": [
        "facebook/bart-large-cnn is a BART model fine-tuned on CNN/DailyMail articles, so it’s excellent for news summarization."
      ],
      "metadata": {
        "id": "MzBZWqcyo2M1"
      }
    },
    {
      "cell_type": "code",
      "source": [
        "# Article 1: Flooding in Pakistan\n",
        "article_floods = \"\"\"\n",
        "Severe monsoon rains have caused catastrophic flooding across several provinces of Pakistan,\n",
        "displacing millions of people and leaving entire communities submerged under water. The Indus River\n",
        "has overflowed in multiple regions, destroying farmland, livestock, and critical infrastructure.\n",
        "Government officials report that thousands of homes have been washed away, forcing families to seek\n",
        "shelter in makeshift camps and schools. Humanitarian organizations are warning of a looming health\n",
        "crisis, as access to clean drinking water has become limited and the risk of waterborne diseases\n",
        "such as cholera and dengue fever is rising. In Sindh and Punjab, rescue teams are working day and\n",
        "night to evacuate residents stranded in remote villages. The flooding has also disrupted road and\n",
        "rail networks, hampering the delivery of aid supplies. International partners, including the United\n",
        "Nations, have pledged emergency funding and resources, but local officials argue that long-term\n",
        "investment in flood defenses and climate adaptation is essential. Experts point out that Pakistan\n",
        "is one of the countries most vulnerable to the impacts of climate change, and without systemic\n",
        "reforms in infrastructure planning and water management, such disasters are likely to repeat\n",
        "with even greater intensity. The tragedy has sparked debate in parliament about government\n",
        "preparedness and whether earlier warnings were ignored. For now, the focus remains on relief,\n",
        "rescue, and rebuilding lives in the aftermath of the country’s worst floods in over a decade.\n",
        "\"\"\"\n"
      ],
      "metadata": {
        "id": "5_tILT0XqHUz"
      },
      "execution_count": null,
      "outputs": []
    },
    {
      "cell_type": "code",
      "source": [
        "\n",
        "# Article 2: Trump and Nobel Prize\n",
        "article_trump = \"\"\"\n",
        "Former U.S. President Donald Trump has once again expressed his desire to be awarded the Nobel\n",
        "Peace Prize, arguing that his administration’s foreign policy achievements deserve recognition.\n",
        "During a rally in Florida, Trump pointed to the Abraham Accords, which normalized relations\n",
        "between Israel and several Arab nations, as evidence that his efforts contributed to greater peace\n",
        "in the Middle East. He criticized the Nobel Committee for what he called a political bias,\n",
        "suggesting that his contributions have been ignored in favor of other leaders with less impactful\n",
        "records. Trump’s comments reignited debate in the media and among political analysts. Supporters\n",
        "argue that the accords were indeed historic and that Trump deserves credit for brokering them,\n",
        "while critics counter that his administration’s broader foreign policy often undermined alliances\n",
        "and increased tensions elsewhere. The Nobel Committee, which rarely comments on nominations,\n",
        "maintains that its decisions are based on contributions to peace as defined by Alfred Nobel’s will,\n",
        "not political pressure. Trump has made similar claims in the past, noting that former President\n",
        "Barack Obama was awarded the prize early in his presidency. Analysts suggest that Trump’s renewed\n",
        "focus on the Nobel Prize could be part of his strategy to energize his political base as he\n",
        "positions himself for a potential 2024 run. Regardless of whether he ever receives the award,\n",
        "the debate highlights the intersection of international diplomacy, recognition, and political\n",
        "rhetoric in today’s polarized environment.\n",
        "\"\"\"\n"
      ],
      "metadata": {
        "id": "F_R5hEx6rFOh"
      },
      "execution_count": null,
      "outputs": []
    },
    {
      "cell_type": "code",
      "source": [
        "\n",
        "# Article 3: Upcoming Movies\n",
        "article_movies = \"\"\"\n",
        "Hollywood is preparing for a blockbuster year as studios line up a series of highly anticipated\n",
        "films expected to dominate the global box office. Among the most talked-about releases is the\n",
        "next installment of the science fiction epic \"Dune: Part Two,\" which continues the saga of Paul\n",
        "Atreides and his rise to power on the desert planet Arrakis. Industry insiders predict that the\n",
        "film will outperform its predecessor, thanks to a growing fan base and stunning visual effects.\n",
        "Another major release on the horizon is Marvel Studios’ \"Avengers: Legacy,\" a continuation of the\n",
        "franchise that has defined modern superhero cinema. With an ensemble cast of both returning and\n",
        "new heroes, the film is expected to generate massive ticket sales worldwide. Meanwhile, family\n",
        "audiences are eagerly awaiting Disney’s animated feature \"Frozen 3,\" which promises new songs,\n",
        "characters, and adventures for Elsa and Anna. Beyond the blockbusters, a number of smaller but\n",
        "critically acclaimed projects are set to make waves during awards season. Directors like Greta\n",
        "Gerwig and Christopher Nolan have upcoming films that are already generating buzz among critics\n",
        "and festival organizers. The combination of franchise powerhouses and auteur-driven cinema has\n",
        "led analysts to predict one of the strongest box office years since the pandemic. With streaming\n",
        "services also planning simultaneous releases and exclusive projects, competition for audience\n",
        "attention will be fierce. The year ahead is shaping up to be a defining moment for the film\n",
        "industry, as studios balance creative risk-taking with the demands of blockbuster profitability.\n",
        "\"\"\"\n"
      ],
      "metadata": {
        "id": "S3pAnL6UrGxt"
      },
      "execution_count": null,
      "outputs": []
    },
    {
      "cell_type": "code",
      "source": [
        "articles = [article_floods, article_trump, article_movies]\n"
      ],
      "metadata": {
        "id": "ZbTGdWxorHUL"
      },
      "execution_count": null,
      "outputs": []
    },
    {
      "cell_type": "code",
      "source": [
        "summaries = summarizer(articles, max_length=80, min_length=20, do_sample=False)\n"
      ],
      "metadata": {
        "id": "G3l7wdZvrQHO"
      },
      "execution_count": null,
      "outputs": []
    },
    {
      "cell_type": "code",
      "source": [
        "for article, summary in zip(articles, summaries):\n",
        "    print(\"Original Article:\\n\", article[:200], \"...\\n\")  # just show first 200 chars\n",
        "    print(\"Summary:\\n\", summary['summary_text'])\n",
        "    print(\"---\\n\")\n"
      ],
      "metadata": {
        "id": "eOHXT06jr7lc"
      },
      "execution_count": null,
      "outputs": []
    },
    {
      "cell_type": "code",
      "source": [],
      "metadata": {
        "id": "0X7GbOefr-Gy"
      },
      "execution_count": null,
      "outputs": []
    }
  ]
}